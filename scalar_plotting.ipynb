{
 "cells": [
  {
   "cell_type": "code",
   "execution_count": 5,
   "id": "b6745ab8",
   "metadata": {},
   "outputs": [],
   "source": [
    "import os\n",
    "\n",
    "## Numerical\n",
    "import numpy as np\n",
    "\n",
    "## Mesh and Graphics\n",
    "import igl\n",
    "import vedo"
   ]
  },
  {
   "cell_type": "code",
   "execution_count": 6,
   "id": "8f4d0bd4",
   "metadata": {},
   "outputs": [],
   "source": [
    "mesh_dir = './example_data/processed_data/meshes'\n",
    "match_dir = './example_data/processed_data/match_results'"
   ]
  },
  {
   "cell_type": "code",
   "execution_count": 8,
   "id": "ed975d35",
   "metadata": {},
   "outputs": [],
   "source": [
    "def readMesh(fn):\n",
    "    v,f = igl.read_triangle_mesh(fn)\n",
    "    v -= v.mean(axis=0)\n",
    "    v /= np.sqrt(area(v,f))\n",
    "    return v,f\n",
    "\n",
    "\n",
    "def area(v,f):\n",
    "    a,b,c = f.T\n",
    "    areas = .5*np.cross(v[b]-v[a], v[c]-v[a])\n",
    "    face_areas = np.linalg.norm(areas,axis=-1)\n",
    "    return face_areas.sum()\n",
    "\n",
    "\n",
    "def orthogonalProcrustes(X,Y):\n",
    "    U,_,VT = np.linalg.svd(X.T @ Y)\n",
    "    R  = (VT.T).dot(U.T)\n",
    "    return R"
   ]
  },
  {
   "cell_type": "code",
   "execution_count": 9,
   "id": "a56bc4e0",
   "metadata": {},
   "outputs": [
    {
     "ename": "FileNotFoundError",
     "evalue": "[Errno 2] No such file or directory: './example_data/processed_data/match_results/Q03_Q04.npy'",
     "output_type": "error",
     "traceback": [
      "\u001b[0;31m---------------------------------------------------------------------------\u001b[0m",
      "\u001b[0;31mFileNotFoundError\u001b[0m                         Traceback (most recent call last)",
      "\u001b[1;32m/Users/lfranz/code/muMatch/scalar_plotting.ipynb Cell 4\u001b[0m line \u001b[0;36m4\n\u001b[1;32m      <a href='vscode-notebook-cell:/Users/lfranz/code/muMatch/scalar_plotting.ipynb#X11sZmlsZQ%3D%3D?line=0'>1</a>\u001b[0m fn1 \u001b[39m=\u001b[39m \u001b[39m\"\u001b[39m\u001b[39mQ03\u001b[39m\u001b[39m\"\u001b[39m\n\u001b[1;32m      <a href='vscode-notebook-cell:/Users/lfranz/code/muMatch/scalar_plotting.ipynb#X11sZmlsZQ%3D%3D?line=1'>2</a>\u001b[0m fn2 \u001b[39m=\u001b[39m \u001b[39m\"\u001b[39m\u001b[39mQ04\u001b[39m\u001b[39m\"\u001b[39m\n\u001b[0;32m----> <a href='vscode-notebook-cell:/Users/lfranz/code/muMatch/scalar_plotting.ipynb#X11sZmlsZQ%3D%3D?line=3'>4</a>\u001b[0m i,j \u001b[39m=\u001b[39m np\u001b[39m.\u001b[39;49mload(os\u001b[39m.\u001b[39;49mpath\u001b[39m.\u001b[39;49mjoin(match_dir, \u001b[39m\"\u001b[39;49m\u001b[39m{0}\u001b[39;49;00m\u001b[39m_\u001b[39;49m\u001b[39m{1}\u001b[39;49;00m\u001b[39m.npy\u001b[39;49m\u001b[39m\"\u001b[39;49m\u001b[39m.\u001b[39;49mformat(fn1, fn2)))\n\u001b[1;32m      <a href='vscode-notebook-cell:/Users/lfranz/code/muMatch/scalar_plotting.ipynb#X11sZmlsZQ%3D%3D?line=4'>5</a>\u001b[0m v1,f1 \u001b[39m=\u001b[39m readMesh(os\u001b[39m.\u001b[39mpath\u001b[39m.\u001b[39mjoin(mesh_dir, fn1 \u001b[39m+\u001b[39m \u001b[39m\"\u001b[39m\u001b[39m.ply\u001b[39m\u001b[39m\"\u001b[39m))\n\u001b[1;32m      <a href='vscode-notebook-cell:/Users/lfranz/code/muMatch/scalar_plotting.ipynb#X11sZmlsZQ%3D%3D?line=5'>6</a>\u001b[0m v2,f2 \u001b[39m=\u001b[39m readMesh(os\u001b[39m.\u001b[39mpath\u001b[39m.\u001b[39mjoin(mesh_dir, fn2 \u001b[39m+\u001b[39m \u001b[39m\"\u001b[39m\u001b[39m.ply\u001b[39m\u001b[39m\"\u001b[39m))\n",
      "File \u001b[0;32m~/mambaforge/envs/tracking/lib/python3.11/site-packages/numpy/lib/npyio.py:427\u001b[0m, in \u001b[0;36mload\u001b[0;34m(file, mmap_mode, allow_pickle, fix_imports, encoding, max_header_size)\u001b[0m\n\u001b[1;32m    425\u001b[0m     own_fid \u001b[39m=\u001b[39m \u001b[39mFalse\u001b[39;00m\n\u001b[1;32m    426\u001b[0m \u001b[39melse\u001b[39;00m:\n\u001b[0;32m--> 427\u001b[0m     fid \u001b[39m=\u001b[39m stack\u001b[39m.\u001b[39menter_context(\u001b[39mopen\u001b[39;49m(os_fspath(file), \u001b[39m\"\u001b[39;49m\u001b[39mrb\u001b[39;49m\u001b[39m\"\u001b[39;49m))\n\u001b[1;32m    428\u001b[0m     own_fid \u001b[39m=\u001b[39m \u001b[39mTrue\u001b[39;00m\n\u001b[1;32m    430\u001b[0m \u001b[39m# Code to distinguish from NumPy binary files and pickles.\u001b[39;00m\n",
      "\u001b[0;31mFileNotFoundError\u001b[0m: [Errno 2] No such file or directory: './example_data/processed_data/match_results/Q03_Q04.npy'"
     ]
    }
   ],
   "source": [
    "fn1 = \"Q03\"\n",
    "fn2 = \"Q04\"\n",
    "\n",
    "i,j = np.load(os.path.join(match_dir, \"{0}_{1}.npy\".format(fn1, fn2)))\n",
    "v1,f1 = readMesh(os.path.join(mesh_dir, fn1 + \".ply\"))\n",
    "v2,f2 = readMesh(os.path.join(mesh_dir, fn2 + \".ply\"))\n",
    "\n",
    "R  = orthogonalProcrustes(v2[j], v1[i])\n",
    "v1 = v1 @ R \n",
    " \n",
    "scalar  = v2.copy()\n",
    "scalar -= v2.min(axis=0)\n",
    "scalar /= v2.max(axis=0)\n",
    "scalar *= .6 # this can be tweaked\n",
    "\n",
    "# fig = mp.subplot(v1, f1, c=scalar[j], s=[2, 2, 0])\n",
    "# mp.subplot(v2, f2, c=scalar[i], s=[2, 2, 1], data=fig)\n",
    "\n",
    "plotter = vedo.Plotter(N=2, axes=0)  # Create a plotter with 2 subplots\n",
    "mesh1 = vedo.Mesh([v1, f1], c=scalar[j])\n",
    "mesh2 = vedo.Mesh([v2, f2], c=scalar[i])\n",
    "\n",
    "plotter.show(mesh1, at=0, resetcam=False)\n",
    "plotter.show(mesh2, at=1, resetcam=False)\n",
    "plotter.interactive()"
   ]
  },
  {
   "cell_type": "code",
   "execution_count": null,
   "id": "9cf89329",
   "metadata": {},
   "outputs": [],
   "source": []
  }
 ],
 "metadata": {
  "kernelspec": {
   "display_name": "Python 3 (ipykernel)",
   "language": "python",
   "name": "python3"
  },
  "language_info": {
   "codemirror_mode": {
    "name": "ipython",
    "version": 3
   },
   "file_extension": ".py",
   "mimetype": "text/x-python",
   "name": "python",
   "nbconvert_exporter": "python",
   "pygments_lexer": "ipython3",
   "version": "3.11.6"
  }
 },
 "nbformat": 4,
 "nbformat_minor": 5
}
